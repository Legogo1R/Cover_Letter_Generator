{
 "cells": [
  {
   "cell_type": "code",
   "execution_count": 13,
   "metadata": {},
   "outputs": [],
   "source": [
    "from pdfminer.converter import TextConverter\n",
    "from pdfminer.pdfinterp import PDFPageInterpreter\n",
    "from pdfminer.pdfinterp import PDFResourceManager\n",
    "from pdfminer.layout import LAParams\n",
    "from pdfminer.pdfpage import PDFPage\n",
    "import io\n",
    "import re\n",
    "\n",
    "import spacy\n",
    "from spacy.matcher import Matcher"
   ]
  },
  {
   "cell_type": "code",
   "execution_count": 14,
   "metadata": {},
   "outputs": [
    {
     "data": {
      "text/plain": [
       "'Чухров Александр\\n\\nМужчина, 26\\xa0лет, родился 15 июня 1997\\n+7\\xa0(931)\\xa05337618\\nkurbobo239@gmail.com\\xa0—\\xa0предпочитаемый способ связи\\nLinkedIn: https://www.linkedin.com/in/%D0%B0%D0%BB%D0%B5%D0%BA%D1%81%D0%B0%D0%\\nBD%D0%B4%D1%80-%D1%87%D1%83%D1%85%D1%80%D0%BE%D0%B2-376a201a0/\\nПроживает: Санкт-Петербург, м.\\xa0Площадь Мужества\\nГражданство: Россия,\\xa0есть разрешение на работу: Россия\\nНе готов к переезду, готов к редким командировкам\\n\\nЖелаемая должность и зарплата\\nML инженер\\nСпециализации:\\n—  Программист, разработчик\\nЗанятость: полная занятость\\nГрафик работы: гибкий график, удаленная работа\\nЖелательное время в пути до работы: не более полутора часов\\nОпыт работы — 5 лет 1 месяц\\nАпрель 2022\\xa0—\\nнастоящее время\\n1 год 4 месяца\\n\\nTevian (ООО Технологии видеоанализа)\\nML engineer\\nЗанимаюсь распознаванием документов, а именно text detection, form understanding.\\nРаботаю на pytorch с моделями типа transformer, применительно к CV\\nООО \"Ситимап\"\\nML engineer\\nРазработка систем компьютерного зрения по разспознаванию и классификации пищи на\\nфотографии\\nСанкт-Петербургский национальный исследовательский\\nуниверситет информационных технологий, механики и оптики\\nСанкт-Петербург\\nОбразовательные учреждения\\n• Вуз, ссуз колледж, ПТУ\\nData scientist\\nResearch of Real estate market in Russia. For this purpose I made parser of cian.ru using\\npython+selenium+tor+mongodb.\\nMade system for one class classification for existence of flats on the image (F1 score=0.83 on test)\\nUsed pretrained resnet50 for feature extraction (pytorch) and made svm classification of these\\nfeatures. (sklearn)\\nNext step is to make interior assessment by an image of the flat.\\nHUAWEI\\nСанкт-Петербург,\\xa0www.huawei.com/ru\\nЭлектроника, приборостроение, бытовая техника, компьютеры и оргтехника\\n\\nЯнварь 2021\\xa0—\\nАпрель 2022\\n1 год 4 месяца\\n\\nСентябрь 2019\\xa0—\\nСентябрь 2021\\n2 года 1 месяц\\n\\nНоябрь 2019\\xa0—\\nЯнварь 2021\\n1 год 3 месяца\\n\\nРезюме обновлено 29 мая 2023 в 10:52\\n\\n\\x0c• Электронно-вычислительная, оптическая, контрольно-измерительная техника,\\nрадиоэлектроника, автоматика (продвижение, оптовая торговля)\\n• Электронно-вычислительная, оптическая, контрольно-измерительная техника,\\nрадиоэлектроника, автоматика (производство)\\nТелекоммуникации, связь\\n• Оптоволоконная связь\\n• Фиксированная связь\\n• Мобильная связь\\nML engineer (TTS, NLU)\\nУспешно пройденная стажировка в команде NLP - BERT implementation, training acceleration by\\ntuning of hyperparameters, stochastic weight averaging and inference acceleration by using\\ntensorflow C api.\\nРабота в команде TTS\\nVoicefiler implementation and training.(pytorch)\\nReal time voice cloning system implementation. (tensorflow)\\nCoversion of model from pytorch to tensorflow\\nSystem of zero shot voice conversion (tensorflow)\\nИсследовательская лаборатория им. П. Л. Чебышева\\nСанкт-Петербург,\\xa0chebyshev.spbu.ru/\\nОбразовательные учреждения\\n• Вуз, ссуз колледж, ПТУ\\nИнформационные технологии, системная интеграция, интернет\\n• Разработка программного обеспечения\\n• Системная интеграция,  автоматизации технологических и бизнес-процессов\\nпредприятия, ИТ-консалтинг\\npython developer\\nРазработка ПО, для анализа и предсказания залегания нефти на основании статистического\\nанализа.\\nСанкт-Петербургский национальный исследовательский\\nуниверситет информационных технологий, механики и оптики\\nСанкт-Петербург\\nОбразовательные учреждения\\n• Вуз, ссуз колледж, ПТУ\\nИнженер-исследователь\\nИзучение возбуждения связанного состояния в континууме в нелинейном режиме\\n\\nСанкт-Петербургский национальный исследовательский\\nуниверситет информационных технологий, механики и оптики,\\nСанкт-Петербург\\nИнформационных технологий и программирования, Машинное обучение и большие данные\\nСПБАУ РАН\\nПрикладная математика и физика, Физика и нанотехнологии\\n\\nМарт 2019\\xa0—\\nНоябрь 2019\\n9 месяцев\\n\\nИюль 2018\\xa0—\\nИюль 2019\\n1 год 1 месяц\\n\\nОбразование\\nВысшее\\n2021\\n\\n2019\\n\\nТесты, экзамены\\n2020\\n\\nIntroduction to Big Data for Data Science, сертификат с отличием\\n\\nЧухров Александр  •  Резюме обновлено 29 мая 2023 в 10:52\\n\\n\\x0c2019\\n\\n2018\\n\\nstepik.org, https://stepik.org/certificate/236061c333a0dff7cc5306c6ecf1a0626b482f98.pdf\\nВведение в Data Science и машинное обучение, сертификат с\\nотличием\\nstepik.org, https://stepik.org/certificate/dc47e1b56a57c2e6f478406ac7ec338dc4d3389c.pdf\\nПрограммирование на Python, сертификат с отличием\\nstepik.org, https://stepik.org/certificate/a21a80de13d3b8f48dd858688514058eb9e584e2.pdf\\n\\nЭлектронные сертификаты\\n2020\\n2019\\n\\nНейронные сети и компьютерное зрение, сертификат с отличием\\nJava, базовый курс, сертификат с отличием\\nJavaScript\\nPython: основы и применение, сертификат с отличием\\nПрограммирование на Python, сертификат с отличием\\nПрограммирование на языке C++\\n\\nКлючевые навыки\\nЗнание языков\\n\\nНавыки\\n\\nРусский — Родной\\nАнглийский — C2 — В совершенстве\\n Python      Git      Feature Engineering      Data Mining      machine learning \\n docker      MongoDB      Linux      Deep learning      computer vision \\n\\nОпыт вождения\\nПрава категории\\xa0B\\nДополнительная информация\\nОбо мне\\n\\nВ 2015 году закончил фмл №239, с первого курса в университете увлекаюсь\\nпрограммированием: прохожу курсы, пишу что-то для себя: писал atari на java,\\nпрохождение квантовой частицы сквозь стенку на Python, telegram бота на Python, для\\nнаучно-исследовательской работы использовал Python для решения дифференциальных\\nуравнений в частных производных, рисования графиков и т д.\\n\\nЧухров Александр  •  Резюме обновлено 29 мая 2023 в 10:52\\n\\n\\x0c'"
      ]
     },
     "execution_count": 14,
     "metadata": {},
     "output_type": "execute_result"
    }
   ],
   "source": [
    "def extract_text_from_pdf(pdf_path):\n",
    "    with open(pdf_path, 'rb') as file:\n",
    "        # iterate over all pages of PDF document\n",
    "        for page in PDFPage.get_pages(file, caching=True, check_extractable=True):\n",
    "            # creating a resoure manager\n",
    "            resource_manager = PDFResourceManager()\n",
    "            \n",
    "            # create a file handle\n",
    "            fake_file_handle = io.StringIO()\n",
    "            \n",
    "            # creating a text converter object\n",
    "            converter = TextConverter(\n",
    "                                resource_manager, \n",
    "                                fake_file_handle, \n",
    "                                laparams=LAParams())\n",
    "\n",
    "            # creating a page interpreter\n",
    "            page_interpreter = PDFPageInterpreter(\n",
    "                                resource_manager, \n",
    "                                converter)\n",
    "\n",
    "            # process current page\n",
    "            page_interpreter.process_page(page)\n",
    "            \n",
    "            # extract text\n",
    "            text = fake_file_handle.getvalue()\n",
    "            yield text\n",
    "\n",
    "            # close open handles\n",
    "            converter.close()\n",
    "            fake_file_handle.close()\n",
    "\n",
    "# calling above function and extracting text\n",
    "text = ''\n",
    "for page in extract_text_from_pdf('Чухров Александр.pdf'):\n",
    "    text +=  page\n",
    "\n",
    "text\n",
    "\n"
   ]
  },
  {
   "cell_type": "code",
   "execution_count": 8,
   "metadata": {},
   "outputs": [
    {
     "data": {
      "text/plain": [
       "'Чухров Александр'"
      ]
     },
     "execution_count": 8,
     "metadata": {},
     "output_type": "execute_result"
    }
   ],
   "source": [
    "# load pre-trained model\n",
    "model_nlp = spacy.load('en_core_web_sm')\n",
    "\n",
    "# initialize matcher with a vocab\n",
    "matcher = Matcher(model_nlp.vocab)\n",
    "\n",
    "def extract_name(resume_text):\n",
    "    nlp_text = model_nlp(resume_text)\n",
    "    \n",
    "    # First name and Last name are always Proper Nouns\n",
    "    pattern = [{'POS': 'PROPN'}, {'POS': 'PROPN'}]\n",
    "    \n",
    "    matcher.add('NAME', [pattern])\n",
    "    \n",
    "    matches = matcher(nlp_text)\n",
    "    \n",
    "    for match_id, start, end in matches:\n",
    "        span = nlp_text[start:end]\n",
    "        return span.text\n",
    "    \n",
    "extract_name(text)"
   ]
  },
  {
   "cell_type": "code",
   "execution_count": 20,
   "metadata": {},
   "outputs": [
    {
     "data": {
      "text/plain": [
       "'+79315337618'"
      ]
     },
     "execution_count": 20,
     "metadata": {},
     "output_type": "execute_result"
    }
   ],
   "source": [
    "def extract_mobile_number(text):\n",
    "    phone = re.findall(re.compile(r'(?:(?:\\+?([1-9]|[0-9][0-9]|[0-9][0-9][0-9])\\s*(?:[.-]\\s*)?)?(?:\\(\\s*([2-9]1[02-9]|[2-9][02-8]1|[2-9][02-8][02-9])\\s*\\)|([0-9][1-9]|[0-9]1[02-9]|[2-9][02-8]1|[2-9][02-8][02-9]))\\s*(?:[.-]\\s*)?)?([2-9]1[02-9]|[2-9][02-9]1|[2-9][02-9]{2})\\s*(?:[.-]\\s*)?([0-9]{4})(?:\\s*(?:#|x\\.?|ext\\.?|extension)\\s*(\\d+))?'), text)\n",
    "    \n",
    "    if phone:\n",
    "        number = ''.join(phone[0])\n",
    "        if len(number) > 10:\n",
    "            return '+' + number\n",
    "        else:\n",
    "            return number\n",
    "        \n",
    "extract_mobile_number(text)"
   ]
  },
  {
   "cell_type": "code",
   "execution_count": 21,
   "metadata": {},
   "outputs": [
    {
     "data": {
      "text/plain": [
       "'kurbobo239@gmail.com'"
      ]
     },
     "execution_count": 21,
     "metadata": {},
     "output_type": "execute_result"
    }
   ],
   "source": [
    "def extract_email(text):\n",
    "    email = re.findall(\"([^@|\\s]+@[^@]+\\.[^@|\\s]+)\", text)\n",
    "    if email:\n",
    "        try:\n",
    "            return email[0].split()[0].strip(';')\n",
    "        except IndexError:\n",
    "            return None\n",
    "        \n",
    "extract_email(text)"
   ]
  },
  {
   "cell_type": "code",
   "execution_count": null,
   "metadata": {},
   "outputs": [],
   "source": [
    "y = 'huy'\n",
    "x = (\n",
    "    f\"{y}fdfd, \"\n",
    "    f\"{y}, \"\n",
    ")\n",
    "\n",
    "x"
   ]
  }
 ],
 "metadata": {
  "kernelspec": {
   "display_name": "openai_gpt",
   "language": "python",
   "name": "python3"
  },
  "language_info": {
   "codemirror_mode": {
    "name": "ipython",
    "version": 3
   },
   "file_extension": ".py",
   "mimetype": "text/x-python",
   "name": "python",
   "nbconvert_exporter": "python",
   "pygments_lexer": "ipython3",
   "version": "3.11.4"
  },
  "orig_nbformat": 4
 },
 "nbformat": 4,
 "nbformat_minor": 2
}
